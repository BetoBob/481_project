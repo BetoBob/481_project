{
 "cells": [
  {
   "cell_type": "markdown",
   "metadata": {
    "colab_type": "text",
    "id": "oTroG4NJ3hRb"
   },
   "source": [
    "# CSC 481 Final Presentation\n",
    "\n",
    "Ayan Patel, Robert Hensley\n",
    "\n",
    "* [Gowalla Dataset](https://snap.stanford.edu/data/loc-gowalla.html)"
   ]
  },
  {
   "cell_type": "markdown",
   "metadata": {
    "colab_type": "text",
    "id": "awcG8UUHvMkE"
   },
   "source": [
    "\n",
    "\n",
    "---\n",
    "\n"
   ]
  },
  {
   "cell_type": "code",
   "execution_count": 1,
   "metadata": {
    "colab": {},
    "colab_type": "code",
    "id": "VwrNPT2ww5Pn"
   },
   "outputs": [],
   "source": [
    "# Graph Libraries\n",
    "import igraph\n",
    "from igraph import *\n",
    "\n",
    "# Map Libraries\n",
    "import geopy\n",
    "from geopy.geocoders import Nominatim\n",
    "\n",
    "# Other Libraries\n",
    "import pandas as pd\n",
    "import itertools\n",
    "import json\n",
    "import time\n",
    "from datetime import datetime\n",
    "from collections import Counter"
   ]
  },
  {
   "cell_type": "markdown",
   "metadata": {
    "colab_type": "text",
    "id": "NpqW2Upl4fm5"
   },
   "source": [
    "## Loading Data\n",
    "\n",
    "* the cells below clean the text data given\n",
    "* this can takes 3 - 5 minutes to fully load all dataframes"
   ]
  },
  {
   "cell_type": "code",
   "execution_count": 2,
   "metadata": {
    "colab": {
     "base_uri": "https://localhost:8080/",
     "height": 131
    },
    "colab_type": "code",
    "id": "I1EbbKnAy9vJ",
    "outputId": "b1405774-16bb-4992-8be5-34438702a121"
   },
   "outputs": [],
   "source": [
    "data_path = 'data/'\n",
    "\n",
    "# creating dataframes\n",
    "edges = pd.read_csv(data_path + 'Gowalla_edges.txt', sep='\\t', names=['u1', 'u2'])\n",
    "totalCheckins = pd.read_csv(data_path + 'Gowalla_totalCheckins.txt', sep='\\t',\n",
    "                            names=['user', 'time', 'lat', 'long', 'locid'])\n",
    "\n",
    "totalCheckins['time'] = totalCheckins['time'].map(lambda x: datetime.strptime(x, \"%Y-%m-%dT%H:%M:%SZ\"))"
   ]
  },
  {
   "cell_type": "code",
   "execution_count": 3,
   "metadata": {
    "colab": {
     "base_uri": "https://localhost:8080/",
     "height": 424
    },
    "colab_type": "code",
    "id": "UoqfogdT0uoM",
    "outputId": "c6156307-d8c6-442b-8b8e-bb9b844b0395"
   },
   "outputs": [
    {
     "data": {
      "text/html": [
       "<div>\n",
       "<style scoped>\n",
       "    .dataframe tbody tr th:only-of-type {\n",
       "        vertical-align: middle;\n",
       "    }\n",
       "\n",
       "    .dataframe tbody tr th {\n",
       "        vertical-align: top;\n",
       "    }\n",
       "\n",
       "    .dataframe thead th {\n",
       "        text-align: right;\n",
       "    }\n",
       "</style>\n",
       "<table border=\"1\" class=\"dataframe\">\n",
       "  <thead>\n",
       "    <tr style=\"text-align: right;\">\n",
       "      <th></th>\n",
       "      <th>user</th>\n",
       "      <th>time</th>\n",
       "      <th>lat</th>\n",
       "      <th>long</th>\n",
       "      <th>locid</th>\n",
       "    </tr>\n",
       "  </thead>\n",
       "  <tbody>\n",
       "    <tr>\n",
       "      <th>0</th>\n",
       "      <td>0</td>\n",
       "      <td>2010-10-19 23:55:27</td>\n",
       "      <td>30.235909</td>\n",
       "      <td>-97.795140</td>\n",
       "      <td>22847</td>\n",
       "    </tr>\n",
       "    <tr>\n",
       "      <th>1</th>\n",
       "      <td>0</td>\n",
       "      <td>2010-10-18 22:17:43</td>\n",
       "      <td>30.269103</td>\n",
       "      <td>-97.749395</td>\n",
       "      <td>420315</td>\n",
       "    </tr>\n",
       "    <tr>\n",
       "      <th>2</th>\n",
       "      <td>0</td>\n",
       "      <td>2010-10-17 23:42:03</td>\n",
       "      <td>30.255731</td>\n",
       "      <td>-97.763386</td>\n",
       "      <td>316637</td>\n",
       "    </tr>\n",
       "    <tr>\n",
       "      <th>3</th>\n",
       "      <td>0</td>\n",
       "      <td>2010-10-17 19:26:05</td>\n",
       "      <td>30.263418</td>\n",
       "      <td>-97.757597</td>\n",
       "      <td>16516</td>\n",
       "    </tr>\n",
       "    <tr>\n",
       "      <th>4</th>\n",
       "      <td>0</td>\n",
       "      <td>2010-10-16 18:50:42</td>\n",
       "      <td>30.274292</td>\n",
       "      <td>-97.740523</td>\n",
       "      <td>5535878</td>\n",
       "    </tr>\n",
       "    <tr>\n",
       "      <th>...</th>\n",
       "      <td>...</td>\n",
       "      <td>...</td>\n",
       "      <td>...</td>\n",
       "      <td>...</td>\n",
       "      <td>...</td>\n",
       "    </tr>\n",
       "    <tr>\n",
       "      <th>6442887</th>\n",
       "      <td>196578</td>\n",
       "      <td>2010-06-11 13:32:26</td>\n",
       "      <td>51.742988</td>\n",
       "      <td>-0.488065</td>\n",
       "      <td>906885</td>\n",
       "    </tr>\n",
       "    <tr>\n",
       "      <th>6442888</th>\n",
       "      <td>196578</td>\n",
       "      <td>2010-06-11 13:26:45</td>\n",
       "      <td>51.746492</td>\n",
       "      <td>-0.490780</td>\n",
       "      <td>965121</td>\n",
       "    </tr>\n",
       "    <tr>\n",
       "      <th>6442889</th>\n",
       "      <td>196578</td>\n",
       "      <td>2010-06-11 13:26:34</td>\n",
       "      <td>51.741916</td>\n",
       "      <td>-0.496729</td>\n",
       "      <td>1174322</td>\n",
       "    </tr>\n",
       "    <tr>\n",
       "      <th>6442890</th>\n",
       "      <td>196585</td>\n",
       "      <td>2010-10-08 21:01:49</td>\n",
       "      <td>50.105516</td>\n",
       "      <td>8.571525</td>\n",
       "      <td>471724</td>\n",
       "    </tr>\n",
       "    <tr>\n",
       "      <th>6442891</th>\n",
       "      <td>196585</td>\n",
       "      <td>2010-10-07 17:39:18</td>\n",
       "      <td>50.027812</td>\n",
       "      <td>8.785098</td>\n",
       "      <td>4555073</td>\n",
       "    </tr>\n",
       "  </tbody>\n",
       "</table>\n",
       "<p>6442892 rows × 5 columns</p>\n",
       "</div>"
      ],
      "text/plain": [
       "           user                time        lat       long    locid\n",
       "0             0 2010-10-19 23:55:27  30.235909 -97.795140    22847\n",
       "1             0 2010-10-18 22:17:43  30.269103 -97.749395   420315\n",
       "2             0 2010-10-17 23:42:03  30.255731 -97.763386   316637\n",
       "3             0 2010-10-17 19:26:05  30.263418 -97.757597    16516\n",
       "4             0 2010-10-16 18:50:42  30.274292 -97.740523  5535878\n",
       "...         ...                 ...        ...        ...      ...\n",
       "6442887  196578 2010-06-11 13:32:26  51.742988  -0.488065   906885\n",
       "6442888  196578 2010-06-11 13:26:45  51.746492  -0.490780   965121\n",
       "6442889  196578 2010-06-11 13:26:34  51.741916  -0.496729  1174322\n",
       "6442890  196585 2010-10-08 21:01:49  50.105516   8.571525   471724\n",
       "6442891  196585 2010-10-07 17:39:18  50.027812   8.785098  4555073\n",
       "\n",
       "[6442892 rows x 5 columns]"
      ]
     },
     "execution_count": 3,
     "metadata": {},
     "output_type": "execute_result"
    }
   ],
   "source": [
    "totalCheckins"
   ]
  },
  {
   "cell_type": "code",
   "execution_count": 4,
   "metadata": {
    "colab": {
     "base_uri": "https://localhost:8080/",
     "height": 424
    },
    "colab_type": "code",
    "id": "C20BDFlN0nd6",
    "outputId": "368a445a-630c-426a-eb15-f0384fd28754"
   },
   "outputs": [
    {
     "data": {
      "text/html": [
       "<div>\n",
       "<style scoped>\n",
       "    .dataframe tbody tr th:only-of-type {\n",
       "        vertical-align: middle;\n",
       "    }\n",
       "\n",
       "    .dataframe tbody tr th {\n",
       "        vertical-align: top;\n",
       "    }\n",
       "\n",
       "    .dataframe thead th {\n",
       "        text-align: right;\n",
       "    }\n",
       "</style>\n",
       "<table border=\"1\" class=\"dataframe\">\n",
       "  <thead>\n",
       "    <tr style=\"text-align: right;\">\n",
       "      <th></th>\n",
       "      <th>u1</th>\n",
       "      <th>u2</th>\n",
       "    </tr>\n",
       "  </thead>\n",
       "  <tbody>\n",
       "    <tr>\n",
       "      <th>0</th>\n",
       "      <td>0</td>\n",
       "      <td>1</td>\n",
       "    </tr>\n",
       "    <tr>\n",
       "      <th>1</th>\n",
       "      <td>0</td>\n",
       "      <td>2</td>\n",
       "    </tr>\n",
       "    <tr>\n",
       "      <th>2</th>\n",
       "      <td>0</td>\n",
       "      <td>3</td>\n",
       "    </tr>\n",
       "    <tr>\n",
       "      <th>3</th>\n",
       "      <td>0</td>\n",
       "      <td>4</td>\n",
       "    </tr>\n",
       "    <tr>\n",
       "      <th>4</th>\n",
       "      <td>0</td>\n",
       "      <td>5</td>\n",
       "    </tr>\n",
       "    <tr>\n",
       "      <th>...</th>\n",
       "      <td>...</td>\n",
       "      <td>...</td>\n",
       "    </tr>\n",
       "    <tr>\n",
       "      <th>1900649</th>\n",
       "      <td>196586</td>\n",
       "      <td>196539</td>\n",
       "    </tr>\n",
       "    <tr>\n",
       "      <th>1900650</th>\n",
       "      <td>196587</td>\n",
       "      <td>196540</td>\n",
       "    </tr>\n",
       "    <tr>\n",
       "      <th>1900651</th>\n",
       "      <td>196588</td>\n",
       "      <td>196540</td>\n",
       "    </tr>\n",
       "    <tr>\n",
       "      <th>1900652</th>\n",
       "      <td>196589</td>\n",
       "      <td>196547</td>\n",
       "    </tr>\n",
       "    <tr>\n",
       "      <th>1900653</th>\n",
       "      <td>196590</td>\n",
       "      <td>196561</td>\n",
       "    </tr>\n",
       "  </tbody>\n",
       "</table>\n",
       "<p>1900654 rows × 2 columns</p>\n",
       "</div>"
      ],
      "text/plain": [
       "             u1      u2\n",
       "0             0       1\n",
       "1             0       2\n",
       "2             0       3\n",
       "3             0       4\n",
       "4             0       5\n",
       "...         ...     ...\n",
       "1900649  196586  196539\n",
       "1900650  196587  196540\n",
       "1900651  196588  196540\n",
       "1900652  196589  196547\n",
       "1900653  196590  196561\n",
       "\n",
       "[1900654 rows x 2 columns]"
      ]
     },
     "execution_count": 4,
     "metadata": {},
     "output_type": "execute_result"
    }
   ],
   "source": [
    "edges"
   ]
  },
  {
   "cell_type": "markdown",
   "metadata": {
    "colab_type": "text",
    "id": "QAXhhM5QCRL6"
   },
   "source": [
    "### User Notes\n",
    "\n",
    "* we can get an idea of where the users are generally located by gather the mean of their latitude on longitudinal locations\n",
    "* other user attributes to collect:\n",
    "  * earliest time checked in\n",
    "  * latest time checked in \n",
    "    * this shows the general timespan the user has been on the app "
   ]
  },
  {
   "cell_type": "code",
   "execution_count": 5,
   "metadata": {
    "colab": {
     "base_uri": "https://localhost:8080/",
     "height": 36
    },
    "colab_type": "code",
    "id": "_0JlEiRAB_xQ",
    "outputId": "55c1e07b-6b34-49da-a6f5-c29b93884154"
   },
   "outputs": [
    {
     "data": {
      "text/plain": [
       "196585"
      ]
     },
     "execution_count": 5,
     "metadata": {},
     "output_type": "execute_result"
    }
   ],
   "source": [
    "totalCheckins['user'].max()"
   ]
  },
  {
   "cell_type": "code",
   "execution_count": 6,
   "metadata": {
    "colab": {
     "base_uri": "https://localhost:8080/",
     "height": 455
    },
    "colab_type": "code",
    "id": "zxffVygg6FEX",
    "outputId": "ad78c9ea-df97-4519-ed4c-d45b09b46197"
   },
   "outputs": [
    {
     "data": {
      "text/html": [
       "<div>\n",
       "<style scoped>\n",
       "    .dataframe tbody tr th:only-of-type {\n",
       "        vertical-align: middle;\n",
       "    }\n",
       "\n",
       "    .dataframe tbody tr th {\n",
       "        vertical-align: top;\n",
       "    }\n",
       "\n",
       "    .dataframe thead th {\n",
       "        text-align: right;\n",
       "    }\n",
       "</style>\n",
       "<table border=\"1\" class=\"dataframe\">\n",
       "  <thead>\n",
       "    <tr style=\"text-align: right;\">\n",
       "      <th></th>\n",
       "      <th>lat</th>\n",
       "      <th>long</th>\n",
       "    </tr>\n",
       "    <tr>\n",
       "      <th>user</th>\n",
       "      <th></th>\n",
       "      <th></th>\n",
       "    </tr>\n",
       "  </thead>\n",
       "  <tbody>\n",
       "    <tr>\n",
       "      <th>0</th>\n",
       "      <td>33.558308</td>\n",
       "      <td>-97.894601</td>\n",
       "    </tr>\n",
       "    <tr>\n",
       "      <th>1</th>\n",
       "      <td>47.204338</td>\n",
       "      <td>4.499703</td>\n",
       "    </tr>\n",
       "    <tr>\n",
       "      <th>2</th>\n",
       "      <td>35.659617</td>\n",
       "      <td>-120.016716</td>\n",
       "    </tr>\n",
       "    <tr>\n",
       "      <th>4</th>\n",
       "      <td>36.800202</td>\n",
       "      <td>-124.714027</td>\n",
       "    </tr>\n",
       "    <tr>\n",
       "      <th>5</th>\n",
       "      <td>32.290069</td>\n",
       "      <td>-96.123008</td>\n",
       "    </tr>\n",
       "    <tr>\n",
       "      <th>...</th>\n",
       "      <td>...</td>\n",
       "      <td>...</td>\n",
       "    </tr>\n",
       "    <tr>\n",
       "      <th>196544</th>\n",
       "      <td>-25.433409</td>\n",
       "      <td>-49.281533</td>\n",
       "    </tr>\n",
       "    <tr>\n",
       "      <th>196561</th>\n",
       "      <td>37.528650</td>\n",
       "      <td>-122.004623</td>\n",
       "    </tr>\n",
       "    <tr>\n",
       "      <th>196577</th>\n",
       "      <td>51.514905</td>\n",
       "      <td>-0.081277</td>\n",
       "    </tr>\n",
       "    <tr>\n",
       "      <th>196578</th>\n",
       "      <td>51.744557</td>\n",
       "      <td>-0.478051</td>\n",
       "    </tr>\n",
       "    <tr>\n",
       "      <th>196585</th>\n",
       "      <td>50.066664</td>\n",
       "      <td>8.678312</td>\n",
       "    </tr>\n",
       "  </tbody>\n",
       "</table>\n",
       "<p>107092 rows × 2 columns</p>\n",
       "</div>"
      ],
      "text/plain": [
       "              lat        long\n",
       "user                         \n",
       "0       33.558308  -97.894601\n",
       "1       47.204338    4.499703\n",
       "2       35.659617 -120.016716\n",
       "4       36.800202 -124.714027\n",
       "5       32.290069  -96.123008\n",
       "...           ...         ...\n",
       "196544 -25.433409  -49.281533\n",
       "196561  37.528650 -122.004623\n",
       "196577  51.514905   -0.081277\n",
       "196578  51.744557   -0.478051\n",
       "196585  50.066664    8.678312\n",
       "\n",
       "[107092 rows x 2 columns]"
      ]
     },
     "execution_count": 6,
     "metadata": {},
     "output_type": "execute_result"
    }
   ],
   "source": [
    "users = totalCheckins.groupby('user').mean()[['lat', 'long']]\n",
    "users"
   ]
  },
  {
   "cell_type": "code",
   "execution_count": 7,
   "metadata": {
    "colab": {
     "base_uri": "https://localhost:8080/",
     "height": 35
    },
    "colab_type": "code",
    "id": "pSStIU_wKS0y",
    "outputId": "3316854e-9a4e-48b6-a09a-a8da920c2b83"
   },
   "outputs": [
    {
     "data": {
      "text/plain": [
       "60.16221566503567"
      ]
     },
     "execution_count": 7,
     "metadata": {},
     "output_type": "execute_result"
    }
   ],
   "source": [
    "# average amounts of visits per user\n",
    "totalCheckins.shape[0] / users.shape[0]"
   ]
  },
  {
   "cell_type": "markdown",
   "metadata": {
    "colab_type": "text",
    "id": "NpsxtesdBGgZ"
   },
   "source": [
    "### Place Notes\n",
    "\n",
    "* same grouping process as users\n",
    "* for the scope of this project, we might want to only focus on places with like 5 or more visits"
   ]
  },
  {
   "cell_type": "code",
   "execution_count": 8,
   "metadata": {},
   "outputs": [],
   "source": [
    "places = totalCheckins.groupby('locid').agg(['mean', 'count'])[['lat', 'long']]\n",
    "\n",
    "places.columns = ['lat_mean', 'count_drop', 'long_mean', 'visits']\n",
    "places = places.drop(columns = ['count_drop'])"
   ]
  },
  {
   "cell_type": "code",
   "execution_count": 9,
   "metadata": {},
   "outputs": [
    {
     "data": {
      "text/html": [
       "<div>\n",
       "<style scoped>\n",
       "    .dataframe tbody tr th:only-of-type {\n",
       "        vertical-align: middle;\n",
       "    }\n",
       "\n",
       "    .dataframe tbody tr th {\n",
       "        vertical-align: top;\n",
       "    }\n",
       "\n",
       "    .dataframe thead th {\n",
       "        text-align: right;\n",
       "    }\n",
       "</style>\n",
       "<table border=\"1\" class=\"dataframe\">\n",
       "  <thead>\n",
       "    <tr style=\"text-align: right;\">\n",
       "      <th></th>\n",
       "      <th>lat_mean</th>\n",
       "      <th>long_mean</th>\n",
       "      <th>visits</th>\n",
       "    </tr>\n",
       "    <tr>\n",
       "      <th>locid</th>\n",
       "      <th></th>\n",
       "      <th></th>\n",
       "      <th></th>\n",
       "    </tr>\n",
       "  </thead>\n",
       "  <tbody>\n",
       "    <tr>\n",
       "      <th>5977757</th>\n",
       "      <td>13.447479</td>\n",
       "      <td>101.019928</td>\n",
       "      <td>1</td>\n",
       "    </tr>\n",
       "    <tr>\n",
       "      <th>951900</th>\n",
       "      <td>50.718459</td>\n",
       "      <td>-1.877455</td>\n",
       "      <td>1</td>\n",
       "    </tr>\n",
       "    <tr>\n",
       "      <th>951901</th>\n",
       "      <td>41.543670</td>\n",
       "      <td>-83.582070</td>\n",
       "      <td>1</td>\n",
       "    </tr>\n",
       "    <tr>\n",
       "      <th>3733285</th>\n",
       "      <td>50.084312</td>\n",
       "      <td>18.212821</td>\n",
       "      <td>1</td>\n",
       "    </tr>\n",
       "    <tr>\n",
       "      <th>3733273</th>\n",
       "      <td>33.621132</td>\n",
       "      <td>-112.185371</td>\n",
       "      <td>1</td>\n",
       "    </tr>\n",
       "    <tr>\n",
       "      <th>...</th>\n",
       "      <td>...</td>\n",
       "      <td>...</td>\n",
       "      <td>...</td>\n",
       "    </tr>\n",
       "    <tr>\n",
       "      <th>58725</th>\n",
       "      <td>59.650051</td>\n",
       "      <td>17.932262</td>\n",
       "      <td>3476</td>\n",
       "    </tr>\n",
       "    <tr>\n",
       "      <th>10259</th>\n",
       "      <td>32.897462</td>\n",
       "      <td>-97.040348</td>\n",
       "      <td>4083</td>\n",
       "    </tr>\n",
       "    <tr>\n",
       "      <th>9410</th>\n",
       "      <td>30.201557</td>\n",
       "      <td>-97.667127</td>\n",
       "      <td>4713</td>\n",
       "    </tr>\n",
       "    <tr>\n",
       "      <th>19542</th>\n",
       "      <td>37.616356</td>\n",
       "      <td>-122.386150</td>\n",
       "      <td>5662</td>\n",
       "    </tr>\n",
       "    <tr>\n",
       "      <th>55033</th>\n",
       "      <td>59.330158</td>\n",
       "      <td>18.058079</td>\n",
       "      <td>5811</td>\n",
       "    </tr>\n",
       "  </tbody>\n",
       "</table>\n",
       "<p>1280969 rows × 3 columns</p>\n",
       "</div>"
      ],
      "text/plain": [
       "          lat_mean   long_mean  visits\n",
       "locid                                 \n",
       "5977757  13.447479  101.019928       1\n",
       "951900   50.718459   -1.877455       1\n",
       "951901   41.543670  -83.582070       1\n",
       "3733285  50.084312   18.212821       1\n",
       "3733273  33.621132 -112.185371       1\n",
       "...            ...         ...     ...\n",
       "58725    59.650051   17.932262    3476\n",
       "10259    32.897462  -97.040348    4083\n",
       "9410     30.201557  -97.667127    4713\n",
       "19542    37.616356 -122.386150    5662\n",
       "55033    59.330158   18.058079    5811\n",
       "\n",
       "[1280969 rows x 3 columns]"
      ]
     },
     "execution_count": 9,
     "metadata": {},
     "output_type": "execute_result"
    }
   ],
   "source": [
    "places.sort_values('visits')"
   ]
  },
  {
   "cell_type": "markdown",
   "metadata": {
    "colab_type": "text",
    "id": "RKb_GW3NxVYV"
   },
   "source": [
    "#### Geolocation Data (geopy)\n",
    "\n",
    "* our queries use the [Nominatim API](https://nominatim.org/release-docs/develop/api/Overview/) by default\n",
    "\n",
    "Let's try to find the country all this data is from. We will query location information using [geopy](https://geopy.readthedocs.io/en/stable/). Below is a sample query.\n",
    "\n",
    "This gives the following important data:\n",
    "* name 'address > tourism'\n",
    "* city 'address > city'\n",
    "* country 'address > country'\n",
    "\n",
    "However this data lacks:\n",
    "* context of the location (is it a pub, park, etc.)\n",
    "    * we can get this information by querying OpenStreetMap using it's place_id, \n",
    "\n",
    "Given the limited time for this project, I feel like city and country information should be informative enough.\n",
    "\n",
    "**Naming Conventions**\n",
    "\n",
    "* subregions vary between different countries \n",
    "    * i.e. states and counties are not found in Germany, boroughs are found in Germany but not the US\n",
    "    * this means the easiest thing to analyze right now are places < cities < countries\n",
    "    * this problem can be resolved by focusing on one Country at a time\n",
    "* the above problem unfortunately also occurs for city names\n",
    "    * citities can also be called \"towns, villages, municipalities, etc.)"
   ]
  },
  {
   "cell_type": "code",
   "execution_count": 10,
   "metadata": {
    "colab": {
     "base_uri": "https://localhost:8080/",
     "height": 74
    },
    "colab_type": "code",
    "id": "GpzGKp7-wCah",
    "outputId": "b7faf624-e9ab-4c66-9de3-c4636fea28c8"
   },
   "outputs": [
    {
     "name": "stderr",
     "output_type": "stream",
     "text": [
      "C:\\ProgramData\\Anaconda3\\lib\\site-packages\\ipykernel_launcher.py:3: DeprecationWarning: Using Nominatim with the default \"geopy/1.22.0\" `user_agent` is strongly discouraged, as it violates Nominatim's ToS https://operations.osmfoundation.org/policies/nominatim/ and may possibly cause 403 and 429 HTTP errors. Please specify a custom `user_agent` with `Nominatim(user_agent=\"my-application\")` or by overriding the default `user_agent`: `geopy.geocoders.options.default_user_agent = \"my-application\"`. In geopy 2.0 this will become an exception.\n",
      "  This is separate from the ipykernel package so we can avoid doing imports until\n"
     ]
    }
   ],
   "source": [
    "from geopy.geocoders import Nominatim\n",
    "\n",
    "geolocator = Nominatim()\n",
    "\n",
    "location = geolocator.reverse(\"39.052318, -94.607499\")"
   ]
  },
  {
   "cell_type": "code",
   "execution_count": 11,
   "metadata": {
    "colab": {
     "base_uri": "https://localhost:8080/",
     "height": 355
    },
    "colab_type": "code",
    "id": "CbxNA2jIyO3e",
    "outputId": "e4a070ed-0f91-4da0-9086-b1315352e290"
   },
   "outputs": [
    {
     "data": {
      "text/plain": [
       "{'place_id': 58063045,\n",
       " 'licence': 'Data © OpenStreetMap contributors, ODbL 1.0. https://osm.org/copyright',\n",
       " 'osm_type': 'node',\n",
       " 'osm_id': 4987894319,\n",
       " 'lat': '39.0522322',\n",
       " 'lon': '-94.6074116',\n",
       " 'display_name': 'State Line at 42nd, State Line Road, Volker, Country Club Plaza, Kansas City, Wyandotte County, Kansas, 66160, United States',\n",
       " 'address': {'highway': 'State Line at 42nd',\n",
       "  'road': 'State Line Road',\n",
       "  'neighbourhood': 'Volker',\n",
       "  'suburb': 'Country Club Plaza',\n",
       "  'city': 'Kansas City',\n",
       "  'county': 'Wyandotte County',\n",
       "  'state': 'Kansas',\n",
       "  'postcode': '66160',\n",
       "  'country': 'United States',\n",
       "  'country_code': 'us'},\n",
       " 'boundingbox': ['39.0521822', '39.0522822', '-94.6074616', '-94.6073616']}"
      ]
     },
     "execution_count": 11,
     "metadata": {},
     "output_type": "execute_result"
    }
   ],
   "source": [
    "location.raw"
   ]
  },
  {
   "cell_type": "code",
   "execution_count": 12,
   "metadata": {
    "colab": {
     "base_uri": "https://localhost:8080/",
     "height": 36
    },
    "colab_type": "code",
    "id": "A6TUCbFSyT28",
    "outputId": "d3723075-49eb-4f9c-a9d2-17d14857dddb"
   },
   "outputs": [
    {
     "data": {
      "text/plain": [
       "'United States'"
      ]
     },
     "execution_count": 12,
     "metadata": {},
     "output_type": "execute_result"
    }
   ],
   "source": [
    "location.raw['address']['country']"
   ]
  },
  {
   "cell_type": "markdown",
   "metadata": {},
   "source": [
    "**Goal: Querying the Data**\n",
    "\n",
    "* now that we have a way of querying information, we would like to extract information from our *places* dataset using the latitude and longitude coordinates\n",
    "* the two code cells below show us looping through the data in order of how many visits a certain location receives\n",
    "* this extracts the full JSON object of the location from OpenStreetMaps and stores it in files in chunks of 1000 places\n",
    "    * we have chosen to limit the number of places analyzed to the top 10,000 because it takes a long time to query the places using a free API"
   ]
  },
  {
   "cell_type": "code",
   "execution_count": 13,
   "metadata": {
    "scrolled": false
   },
   "outputs": [
    {
     "data": {
      "text/html": [
       "<div>\n",
       "<style scoped>\n",
       "    .dataframe tbody tr th:only-of-type {\n",
       "        vertical-align: middle;\n",
       "    }\n",
       "\n",
       "    .dataframe tbody tr th {\n",
       "        vertical-align: top;\n",
       "    }\n",
       "\n",
       "    .dataframe thead th {\n",
       "        text-align: right;\n",
       "    }\n",
       "</style>\n",
       "<table border=\"1\" class=\"dataframe\">\n",
       "  <thead>\n",
       "    <tr style=\"text-align: right;\">\n",
       "      <th></th>\n",
       "      <th>locid</th>\n",
       "      <th>lat_mean</th>\n",
       "      <th>long_mean</th>\n",
       "      <th>visits</th>\n",
       "    </tr>\n",
       "  </thead>\n",
       "  <tbody>\n",
       "    <tr>\n",
       "      <th>0</th>\n",
       "      <td>55033</td>\n",
       "      <td>59.330158</td>\n",
       "      <td>18.058079</td>\n",
       "      <td>5811</td>\n",
       "    </tr>\n",
       "    <tr>\n",
       "      <th>1</th>\n",
       "      <td>19542</td>\n",
       "      <td>37.616356</td>\n",
       "      <td>-122.386150</td>\n",
       "      <td>5662</td>\n",
       "    </tr>\n",
       "    <tr>\n",
       "      <th>2</th>\n",
       "      <td>9410</td>\n",
       "      <td>30.201557</td>\n",
       "      <td>-97.667127</td>\n",
       "      <td>4713</td>\n",
       "    </tr>\n",
       "    <tr>\n",
       "      <th>3</th>\n",
       "      <td>10259</td>\n",
       "      <td>32.897462</td>\n",
       "      <td>-97.040348</td>\n",
       "      <td>4083</td>\n",
       "    </tr>\n",
       "    <tr>\n",
       "      <th>4</th>\n",
       "      <td>58725</td>\n",
       "      <td>59.650051</td>\n",
       "      <td>17.932262</td>\n",
       "      <td>3476</td>\n",
       "    </tr>\n",
       "    <tr>\n",
       "      <th>...</th>\n",
       "      <td>...</td>\n",
       "      <td>...</td>\n",
       "      <td>...</td>\n",
       "      <td>...</td>\n",
       "    </tr>\n",
       "    <tr>\n",
       "      <th>9995</th>\n",
       "      <td>230547</td>\n",
       "      <td>36.005830</td>\n",
       "      <td>-115.084607</td>\n",
       "      <td>56</td>\n",
       "    </tr>\n",
       "    <tr>\n",
       "      <th>9996</th>\n",
       "      <td>45183</td>\n",
       "      <td>35.655814</td>\n",
       "      <td>-97.470548</td>\n",
       "      <td>56</td>\n",
       "    </tr>\n",
       "    <tr>\n",
       "      <th>9997</th>\n",
       "      <td>164356</td>\n",
       "      <td>48.101030</td>\n",
       "      <td>11.645453</td>\n",
       "      <td>56</td>\n",
       "    </tr>\n",
       "    <tr>\n",
       "      <th>9998</th>\n",
       "      <td>234171</td>\n",
       "      <td>63.825514</td>\n",
       "      <td>20.261439</td>\n",
       "      <td>56</td>\n",
       "    </tr>\n",
       "    <tr>\n",
       "      <th>9999</th>\n",
       "      <td>603750</td>\n",
       "      <td>41.807453</td>\n",
       "      <td>-72.827597</td>\n",
       "      <td>56</td>\n",
       "    </tr>\n",
       "  </tbody>\n",
       "</table>\n",
       "<p>10000 rows × 4 columns</p>\n",
       "</div>"
      ],
      "text/plain": [
       "       locid   lat_mean   long_mean  visits\n",
       "0      55033  59.330158   18.058079    5811\n",
       "1      19542  37.616356 -122.386150    5662\n",
       "2       9410  30.201557  -97.667127    4713\n",
       "3      10259  32.897462  -97.040348    4083\n",
       "4      58725  59.650051   17.932262    3476\n",
       "...      ...        ...         ...     ...\n",
       "9995  230547  36.005830 -115.084607      56\n",
       "9996   45183  35.655814  -97.470548      56\n",
       "9997  164356  48.101030   11.645453      56\n",
       "9998  234171  63.825514   20.261439      56\n",
       "9999  603750  41.807453  -72.827597      56\n",
       "\n",
       "[10000 rows x 4 columns]"
      ]
     },
     "execution_count": 13,
     "metadata": {},
     "output_type": "execute_result"
    }
   ],
   "source": [
    "sorted_places = places.sort_values('visits', ascending=False).reset_index()\n",
    "sorted_places[:10000]"
   ]
  },
  {
   "cell_type": "code",
   "execution_count": null,
   "metadata": {},
   "outputs": [],
   "source": [
    "geolocator = Nominatim()\n",
    "\n",
    "location_json = {}\n",
    "location_json['places'] = []\n",
    "\n",
    "# choose place to start writing files\n",
    "i = 1000\n",
    "chunk = 1000\n",
    "places_temp = sorted_places[i:]\n",
    "\n",
    "for index, row in places_temp.iterrows():\n",
    "    \n",
    "    location = geolocator.reverse(str(row[\"lat_mean\"]) + \", \" + str(row[\"long_mean\"])).raw\n",
    "    \n",
    "    location_json['places'].append({'locid' : row['locid'], 'osm_json' : location})\n",
    "    \n",
    "    if index % chunk == 0 and index != i:\n",
    "        \n",
    "        with open('data/json/' + str(index) + '.json', 'w') as outfile:\n",
    "            json.dump(location_json, outfile)\n",
    "        \n",
    "        print(str(index) + ' index JSON written')\n",
    "        \n",
    "        location_json['places'] = []"
   ]
  },
  {
   "cell_type": "markdown",
   "metadata": {},
   "source": [
    "**Cleaning the Data**\n",
    "\n",
    "* now that we have the data, we would like append the information to our original data frame\n",
    "* new information includes:\n",
    "    * the city of the location\n",
    "    * the country of the location (including country code)\n",
    "    * the name of the location\n",
    "    \n",
    "* the code cells below show how the JSON data collected from the OSM api is added to the places dataframe (for the top 10000 locations)"
   ]
  },
  {
   "cell_type": "code",
   "execution_count": null,
   "metadata": {},
   "outputs": [],
   "source": [
    "import json\n",
    "\n",
    "data_path = 'data/json/'\n",
    "start = 2000\n",
    "\n",
    "location_append = []\n",
    "\n",
    "\n",
    "while start <= 10000:\n",
    "    \n",
    "    with open(data_path + str(start) + '.json', 'r') as f:\n",
    "        batch = json.load(f)\n",
    "\n",
    "    places = batch['places']\n",
    "    \n",
    "    for location in places:\n",
    "        \n",
    "        # cities\n",
    "        try:\n",
    "            city = location['osm_json']['address']['city']\n",
    "        except:\n",
    "            pass\n",
    "\n",
    "        try:\n",
    "            city = location['osm_json']['address']['town']\n",
    "        except:\n",
    "            pass\n",
    "\n",
    "        try:\n",
    "            city = location['osm_json']['address']['village']\n",
    "        except:\n",
    "            pass\n",
    "\n",
    "        # skip entities with no city information\n",
    "        if city == \"\":\n",
    "            print(\"no city\")\n",
    "            print(location)\n",
    "    \n",
    "        # countries\n",
    "        country = \"\"\n",
    "        country_code = \"\"\n",
    "        \n",
    "        try:\n",
    "            country = location['osm_json']['address']['country']\n",
    "        except:\n",
    "            pass\n",
    "        \n",
    "        try:\n",
    "            country_code = location['osm_json']['address']['country_code']\n",
    "        except:\n",
    "            pass\n",
    "        \n",
    "        if country == \"\":\n",
    "            print(\"no country\")\n",
    "            print(location)\n",
    "        \n",
    "        location_append.append({\n",
    "            'locid_check' : location['locid'], \n",
    "            'osm_place_id' : location['osm_json']['place_id'],\n",
    "            'display_name' : location['osm_json']['display_name'],\n",
    "            'city' : city,\n",
    "            'country' : country,\n",
    "            'country_code' : country_code\n",
    "        })\n",
    "    \n",
    "    start += 1000"
   ]
  },
  {
   "cell_type": "code",
   "execution_count": null,
   "metadata": {},
   "outputs": [],
   "source": [
    "append_df = pd.DataFrame(location_append)[:-1]\n",
    "\n",
    "append_df"
   ]
  },
  {
   "cell_type": "code",
   "execution_count": null,
   "metadata": {},
   "outputs": [],
   "source": [
    "append_df = pd.DataFrame(location_append)[:-1]\n",
    "places_top10_desc = places_top10.join(append_df)\n",
    "\n",
    "places_top10_desc"
   ]
  },
  {
   "cell_type": "code",
   "execution_count": null,
   "metadata": {},
   "outputs": [],
   "source": [
    "places_top10_desc.to_csv('data/places_top10_desc.csv')"
   ]
  },
  {
   "cell_type": "code",
   "execution_count": null,
   "metadata": {},
   "outputs": [],
   "source": [
    "# top cities\n",
    "places_top10_desc['city'].value_counts()"
   ]
  },
  {
   "cell_type": "code",
   "execution_count": null,
   "metadata": {},
   "outputs": [],
   "source": [
    "# top countries\n",
    "places_top10_desc['country'].value_counts()"
   ]
  },
  {
   "cell_type": "markdown",
   "metadata": {},
   "source": [
    "**Connecting Top 10 Places with Users**\n",
    "\n",
    "* we would like to see which users visited the top 10 locations\n",
    "* this can be done with a simple filtering query\n",
    "* finally, combine the top 10 places users with the queried information using a simple left join\n",
    "\n",
    "\n",
    "We will use this data later when looking at centrality of cities and countries in the graph representations section of our report.\n",
    "\n",
    "* I also will be creating unique city id's and country id's for graph representations of cities and countries (these will be their vertex ID's)"
   ]
  },
  {
   "cell_type": "code",
   "execution_count": null,
   "metadata": {},
   "outputs": [],
   "source": [
    "top10_checkins = totalCheckins[totalCheckins.locid.isin(places_top10['locid'])]\n",
    "top10_checkins"
   ]
  },
  {
   "cell_type": "code",
   "execution_count": null,
   "metadata": {},
   "outputs": [],
   "source": [
    "top10_checkins_desc = top10_checkins.merge(places_top10_desc, on='locid')\n",
    "\n",
    "unique_cities = list(dict.fromkeys(list(top10_checkins_desc['city'])))\n",
    "unique_countries = list(dict.fromkeys(list(top10_checkins_desc['country'])))\n",
    "\n",
    "top10_checkins_desc = top10_checkins_desc.merge(pd.DataFrame({'city' : unique_cities, 'city_id' : range(len(unique_cities))}), on='city')\n",
    "top10_checkins_desc = top10_checkins_desc.merge(pd.DataFrame({'country' : unique_countries, 'country_id' : range(len(unique_countries))}), on='country')\n",
    "\n",
    "top10_checkins_desc[['user', 'locid', 'city', 'city_id', 'country', 'country_id']]"
   ]
  },
  {
   "cell_type": "markdown",
   "metadata": {
    "colab_type": "text",
    "id": "Vc34EgY2sP_R"
   },
   "source": [
    "## Graph Representations\n",
    "\n",
    "### Limitations\n",
    "\n",
    "* the max userID will be the number of edges required in the graph (assumption)\n",
    "* using the maximum number of nodes in the graph (196591) takes a long time to generate the graph\n",
    "  * this I would assume makes the algorithms for these graphs tricky to run\n",
    "  * I could also be adding the edges in an unefficient way (explore ways of generating graphs)\n",
    "    * might be better to add edges in batches instead of one edge at a time (explore this)\n",
    "\n",
    "#### Ways to set limits\n",
    "* we can limit the groups to the first n number of users (example only nodes 0 - 1000)\n",
    "  * however under the assumption that userIDs are added based on the time the user adds themselves to the network, then there will be a lot of graphs that aren't connected because they are in geographically seperate locations\n",
    "* a better soltuion would be to take a group of n people in close proximety of one another\n",
    "  * we could find the average latitude and longitude of a users and record this as the area they are generally in\n",
    "  * we'll then randomly select a user and select the n amount of people closest to this user (ranking by the distance between their average locations)\n"
   ]
  },
  {
   "cell_type": "code",
   "execution_count": null,
   "metadata": {
    "colab": {
     "base_uri": "https://localhost:8080/",
     "height": 35
    },
    "colab_type": "code",
    "id": "u4o3JaqkspRc",
    "outputId": "b4049289-ad49-4073-bc22-4bdd626af1ab"
   },
   "outputs": [],
   "source": [
    "edgesG = Graph()\n",
    "total_edges = max(edges['u1'].max(), edges['u2'].max())\n",
    "total_edges"
   ]
  },
  {
   "cell_type": "code",
   "execution_count": null,
   "metadata": {
    "colab": {},
    "colab_type": "code",
    "id": "B9QhZryu1hTX"
   },
   "outputs": [],
   "source": [
    "edgesG.add_vertices(total_edges)"
   ]
  },
  {
   "cell_type": "code",
   "execution_count": null,
   "metadata": {
    "colab": {},
    "colab_type": "code",
    "id": "eW-zer7Uz6g6"
   },
   "outputs": [],
   "source": [
    "# this takes too long; there's got to be a better way!\n",
    "\n",
    "for i in range(len(edges)):\n",
    "  edgesG.add_edge(edges.loc[i, \"u1\"], edges.loc[i, \"u2\"])"
   ]
  },
  {
   "cell_type": "markdown",
   "metadata": {},
   "source": [
    "### Creating graph of user friendship"
   ]
  },
  {
   "cell_type": "code",
   "execution_count": null,
   "metadata": {},
   "outputs": [],
   "source": [
    "#Faster way to make graph from df tuples\n",
    "eG = igraph.Graph.TupleList(edges.itertuples(index=False), directed=False, weights=False)\n",
    "eG.summary()"
   ]
  },
  {
   "cell_type": "markdown",
   "metadata": {},
   "source": [
    "Finding the indegree of each user and identifying the user with maximum degree"
   ]
  },
  {
   "cell_type": "code",
   "execution_count": null,
   "metadata": {},
   "outputs": [],
   "source": [
    "#Finds degrees of each vertex and the max degree and its vertex - popularity\n",
    "eG_degrees = eG.indegree()\n",
    "print(max(eG_degrees))\n",
    "eG_max_degree_index = eG_degrees.index(max(eG_degrees))\n",
    "eG.vs[eG_max_degree_index]"
   ]
  },
  {
   "cell_type": "markdown",
   "metadata": {},
   "source": [
    "Finding all the neighbors of the user with maximum degree, in other words all of the popular user's friends"
   ]
  },
  {
   "cell_type": "code",
   "execution_count": null,
   "metadata": {},
   "outputs": [],
   "source": [
    "eG.neighbors(eG_max_degree_index)[:10]"
   ]
  },
  {
   "cell_type": "markdown",
   "metadata": {},
   "source": [
    "### Creating graph of users that visited the top 10k places"
   ]
  },
  {
   "cell_type": "code",
   "execution_count": null,
   "metadata": {
    "scrolled": true
   },
   "outputs": [],
   "source": [
    "top10_eG = igraph.Graph.TupleList(top10_edges.itertuples(index=False), directed=False, weights=False)\n",
    "top10_eG.summary()"
   ]
  },
  {
   "cell_type": "markdown",
   "metadata": {},
   "source": [
    "Identifying the user with max degree, most popular "
   ]
  },
  {
   "cell_type": "code",
   "execution_count": null,
   "metadata": {},
   "outputs": [],
   "source": [
    "top10_eG_degrees = top10_eG.indegree()\n",
    "print(max(top10_eG_degrees))\n",
    "top10_eG_max_degree_index = top10_eG_degrees.index(max(top10_eG_degrees))\n",
    "top10_eG.vs[top10_eG_max_degree_index]"
   ]
  },
  {
   "cell_type": "markdown",
   "metadata": {},
   "source": [
    "Using pagerank to find the most popular user - note it matches above method"
   ]
  },
  {
   "cell_type": "code",
   "execution_count": null,
   "metadata": {
    "scrolled": true
   },
   "outputs": [],
   "source": [
    "top10_eG_PR = top10_eG.pagerank()\n",
    "print(max(top10_eG_PR))\n",
    "print(top10_eG_PR.index(max(top10_eG_PR)))\n",
    "top10_eG_PR[:10]"
   ]
  },
  {
   "cell_type": "markdown",
   "metadata": {},
   "source": [
    "Finding all connected components, or clusters, of the graph, and the largest cluster"
   ]
  },
  {
   "cell_type": "code",
   "execution_count": null,
   "metadata": {},
   "outputs": [],
   "source": [
    "top10_eG_clusters = top10_eG.components()\n",
    "print(\"Num of Clusters:\", len(top10_eG_clusters))\n",
    "top10_eG_giant_cluster = top10_eG_clusters.giant()\n",
    "print(\"Num of Vertices in Largest cluster:\", top10_eG_giant_cluster.vcount())"
   ]
  },
  {
   "cell_type": "code",
   "execution_count": null,
   "metadata": {},
   "outputs": [],
   "source": [
    "top10_eG.degree_distribution()"
   ]
  },
  {
   "cell_type": "code",
   "execution_count": null,
   "metadata": {},
   "outputs": [],
   "source": [
    "top10_eG.omega() #size of largest clique"
   ]
  },
  {
   "cell_type": "code",
   "execution_count": null,
   "metadata": {
    "scrolled": true
   },
   "outputs": [],
   "source": [
    "top5_eG = igraph.Graph.TupleList(top5_edges.itertuples(index=False), directed=False, weights=False)\n",
    "top5_eG.summary()"
   ]
  },
  {
   "cell_type": "code",
   "execution_count": null,
   "metadata": {},
   "outputs": [],
   "source": [
    "top5_eG_edges = [edge.tuple for edge in top5_eG.es]"
   ]
  },
  {
   "cell_type": "markdown",
   "metadata": {},
   "source": [
    "### Creating a graph between users and locations they have visited"
   ]
  },
  {
   "cell_type": "code",
   "execution_count": null,
   "metadata": {},
   "outputs": [],
   "source": [
    "user_locids = totalCheckins[['user', 'locid']]\n",
    "user_locids['locid'] = user_locids['locid'].apply(lambda x: 'L' + str(x))\n",
    "user_locids"
   ]
  },
  {
   "cell_type": "code",
   "execution_count": null,
   "metadata": {},
   "outputs": [],
   "source": [
    "user_loc_G = igraph.Graph.TupleList(user_locids.itertuples(index=False), directed=False, weights=False)\n",
    "user_loc_G.summary()"
   ]
  },
  {
   "cell_type": "markdown",
   "metadata": {},
   "source": [
    "### Creating df of all users that visited top10 locations"
   ]
  },
  {
   "cell_type": "code",
   "execution_count": null,
   "metadata": {},
   "outputs": [],
   "source": [
    "user_locid = totalCheckins[['user', 'locid']]\n",
    "top10_user_locid = user_locid[user_locid.locid.isin(places_top10['locid'])]"
   ]
  },
  {
   "cell_type": "code",
   "execution_count": null,
   "metadata": {},
   "outputs": [],
   "source": [
    "top10_user_locid_groups = top10_user_locid.groupby('locid')['user'].apply(list).reset_index(name='users')\n",
    "top10_user_locid_groups"
   ]
  },
  {
   "cell_type": "code",
   "execution_count": null,
   "metadata": {},
   "outputs": [],
   "source": [
    "#takes time to run but gets all combinations of users in each list that we can make edges for visitng same location\n",
    "top10_user_locid_combo = top10_user_locid_groups['users'].apply(lambda x: list(itertools.combinations(x, 2))).reset_index(name='user_combos')\n",
    "top10_user_locid_combo"
   ]
  },
  {
   "cell_type": "markdown",
   "metadata": {},
   "source": [
    "### Graphs of Cities and Countries of Top 10K Locations\n",
    "\n",
    "For this portion of our graph analaysis, we will be creating graphs of the cities and countries of the top 10,000 locations\n",
    "\n",
    "* we will connect locations based on the number of times users who have visited one place visit another\n",
    "* for example let's observe user 1003\n",
    "* they have visited Stockholm, Bloomington and Minneapolis\n",
    "    * this means that each city has a connection to each other from the user"
   ]
  },
  {
   "cell_type": "code",
   "execution_count": null,
   "metadata": {},
   "outputs": [],
   "source": [
    "top10_checkins_desc[top10_checkins_desc['user'] == 1003][['user', 'locid', 'city', 'city_id', 'country', 'country_id']]"
   ]
  },
  {
   "cell_type": "markdown",
   "metadata": {},
   "source": [
    "**Goal**\n",
    "\n",
    "* we will create a weighted graph of connected cities, a user's connection between two cities will count as one weighted point for each city\n",
    "* we will do the same weighted graph for countries"
   ]
  },
  {
   "cell_type": "markdown",
   "metadata": {},
   "source": [
    "**Cities**"
   ]
  },
  {
   "cell_type": "code",
   "execution_count": null,
   "metadata": {},
   "outputs": [],
   "source": [
    "cities_visited = top10_checkins_desc.groupby('user')['city_id'].apply(list).apply(dict.fromkeys).apply(list)\n",
    "cities_visited"
   ]
  },
  {
   "cell_type": "code",
   "execution_count": null,
   "metadata": {},
   "outputs": [],
   "source": [
    "from collections import Counter\n",
    "\n",
    "visits = []\n",
    "\n",
    "for user in cities_visited:\n",
    "    visits.extend(list(itertools.combinations(user, 2)))"
   ]
  },
  {
   "cell_type": "code",
   "execution_count": null,
   "metadata": {},
   "outputs": [],
   "source": [
    "visits[-10:]"
   ]
  },
  {
   "cell_type": "code",
   "execution_count": null,
   "metadata": {},
   "outputs": [],
   "source": [
    "top10_cities_g = Graph()\n",
    "\n",
    "# this is the number of vertices in the system\n",
    "# add 1 because vertices start at zero\n",
    "v = top10_checkins_desc['city_id'].max()\n",
    "top10_cities_g.add_vertices(v + 1)\n",
    "top10_cities_g.add_edges(visits)"
   ]
  },
  {
   "cell_type": "code",
   "execution_count": null,
   "metadata": {},
   "outputs": [],
   "source": [
    "summary(top10_cities_g)"
   ]
  },
  {
   "cell_type": "code",
   "execution_count": null,
   "metadata": {},
   "outputs": [],
   "source": [
    "top10_cities_g"
   ]
  },
  {
   "cell_type": "code",
   "execution_count": null,
   "metadata": {},
   "outputs": [],
   "source": [
    "top10_cities_g_PR = top10_cities_g.pagerank()\n",
    "print(max(top10_cities_g_PR))\n",
    "print(top10_cities_g_PR.index(max(top10_cities_g_PR)))"
   ]
  },
  {
   "cell_type": "code",
   "execution_count": null,
   "metadata": {},
   "outputs": [],
   "source": [
    "list(top10_checkins_desc[top10_checkins_desc['city_id'] == 9]['city'])[0]"
   ]
  },
  {
   "cell_type": "code",
   "execution_count": null,
   "metadata": {},
   "outputs": [],
   "source": [
    "top10_checkins_desc.city.value_counts()"
   ]
  },
  {
   "cell_type": "markdown",
   "metadata": {},
   "source": [
    "**Countries**"
   ]
  },
  {
   "cell_type": "code",
   "execution_count": null,
   "metadata": {},
   "outputs": [],
   "source": [
    "countries_visited = top10_checkins_desc.groupby('user')['country_id'].apply(list).apply(dict.fromkeys).apply(list)\n",
    "cities_visited"
   ]
  },
  {
   "cell_type": "code",
   "execution_count": null,
   "metadata": {},
   "outputs": [],
   "source": [
    "country_visits = []\n",
    "\n",
    "for user in countries_visited:\n",
    "    country_visits.extend(list(itertools.combinations(user, 2)))"
   ]
  },
  {
   "cell_type": "code",
   "execution_count": null,
   "metadata": {},
   "outputs": [],
   "source": [
    "country_visits[:10]"
   ]
  },
  {
   "cell_type": "code",
   "execution_count": null,
   "metadata": {},
   "outputs": [],
   "source": [
    "top10_countries_g = Graph()\n",
    "\n",
    "# this is the number of vertices in the system\n",
    "# add 1 because vertices start at zero\n",
    "v = top10_checkins_desc['country_id'].max()\n",
    "top10_countries_g.add_vertices(v + 1)\n",
    "top10_countries_g.add_edges(country_visits)"
   ]
  },
  {
   "cell_type": "code",
   "execution_count": null,
   "metadata": {},
   "outputs": [],
   "source": [
    "summary(top10_countries_g)"
   ]
  },
  {
   "cell_type": "code",
   "execution_count": null,
   "metadata": {},
   "outputs": [],
   "source": [
    "top10_countries_g_PR = top10_countries_g.pagerank()\n",
    "print(max(top10_countries_g_PR))\n",
    "print(top10_countries_g_PR.index(max(top10_countries_g_PR)))"
   ]
  },
  {
   "cell_type": "code",
   "execution_count": null,
   "metadata": {},
   "outputs": [],
   "source": [
    "list(top10_checkins_desc[top10_checkins_desc['country_id'] == 5]['country'])[0]"
   ]
  },
  {
   "cell_type": "code",
   "execution_count": null,
   "metadata": {},
   "outputs": [],
   "source": [
    "top10_checkins_desc.country.value_counts()"
   ]
  },
  {
   "cell_type": "markdown",
   "metadata": {},
   "source": [
    "### Grouping checkins by time and location"
   ]
  },
  {
   "cell_type": "code",
   "execution_count": null,
   "metadata": {},
   "outputs": [],
   "source": [
    "time_loc = totalCheckins[['time', 'user', 'locid']]\n",
    "time_loc = time_loc[time_loc.locid.isin(places_top10['locid'])]\n",
    "time_loc['time'] = time_loc['time'].dt.floor('30T') #rounding timestamp to nearest 30 minutes\n",
    "time_loc.groupby(['locid', 'time']).agg(['count'])"
   ]
  },
  {
   "cell_type": "markdown",
   "metadata": {},
   "source": [
    "The following shows a list of users that where at a location at the same time"
   ]
  },
  {
   "cell_type": "code",
   "execution_count": null,
   "metadata": {},
   "outputs": [],
   "source": [
    "time_loc5 = totalCheckins[['time', 'user', 'locid']]\n",
    "time_loc5 = time_loc5[time_loc5.locid.isin(places_top5['locid'])]\n",
    "time_loc5['time'] = time_loc5['time'].dt.floor('60T') #rounding timestamp to nearest hour\n",
    "time_loc5_groups = time_loc5.groupby(['locid', 'time'])['user'].apply(list).reset_index(name='users')\n",
    "time_loc5_groups = time_loc5_groups[time_loc5_groups['users'].apply(lambda x: len(x) > 2)]\n",
    "time_loc5_groups"
   ]
  },
  {
   "cell_type": "code",
   "execution_count": null,
   "metadata": {},
   "outputs": [],
   "source": [
    "time_loc5_groups_combo = time_loc5_groups['users'].apply(lambda x: list(itertools.combinations(x, 2))).reset_index(name='user_combos')\n",
    "time_loc5_groups_combo"
   ]
  },
  {
   "cell_type": "code",
   "execution_count": null,
   "metadata": {},
   "outputs": [],
   "source": [
    "time_loc5_groups_combo[:10]['user_combos'].apply(lambda x: sum(el in top5_eG_edges for el in x)).reset_index(name='friends')"
   ]
  },
  {
   "cell_type": "markdown",
   "metadata": {},
   "source": [
    "Finding the popular time for people to visit a particular location"
   ]
  },
  {
   "cell_type": "code",
   "execution_count": null,
   "metadata": {},
   "outputs": [],
   "source": [
    "time_loc['time'] = time_loc['time'].dt.time\n",
    "time_loc.groupby(['locid', 'time']).agg(['count'])"
   ]
  },
  {
   "cell_type": "markdown",
   "metadata": {},
   "source": [
    "The following shows the most common time for people to visit that location as well as what user visited that location the most"
   ]
  },
  {
   "cell_type": "code",
   "execution_count": null,
   "metadata": {},
   "outputs": [],
   "source": [
    "time_loc.groupby(['locid']).agg(lambda x:x.value_counts().index[0])"
   ]
  }
 ],
 "metadata": {
  "colab": {
   "collapsed_sections": [],
   "name": "CSC481_Project.ipynb",
   "provenance": [],
   "toc_visible": true
  },
  "kernelspec": {
   "display_name": "Python 3",
   "language": "python",
   "name": "python3"
  },
  "language_info": {
   "codemirror_mode": {
    "name": "ipython",
    "version": 3
   },
   "file_extension": ".py",
   "mimetype": "text/x-python",
   "name": "python",
   "nbconvert_exporter": "python",
   "pygments_lexer": "ipython3",
   "version": "3.7.6"
  }
 },
 "nbformat": 4,
 "nbformat_minor": 1
}
